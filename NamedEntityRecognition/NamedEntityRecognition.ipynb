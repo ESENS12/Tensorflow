{
 "cells": [
  {
   "cell_type": "code",
   "execution_count": 1,
   "metadata": {},
   "outputs": [],
   "source": [
    "from gluonnlp.data import SentencepieceTokenizer\n",
    "from kobert.utils import get_tokenizer\n"
   ]
  },
  {
   "cell_type": "code",
   "execution_count": 2,
   "metadata": {},
   "outputs": [
    {
     "name": "stdout",
     "output_type": "stream",
     "text": [
      "using cached model\n"
     ]
    },
    {
     "data": {
      "text/plain": [
       "['▁한국', '어', '▁모델', '을', '▁공유', '합니다', '.']"
      ]
     },
     "execution_count": 2,
     "metadata": {},
     "output_type": "execute_result"
    }
   ],
   "source": [
    "tok_path = get_tokenizer()\n",
    "sp  = SentencepieceTokenizer(tok_path)\n",
    "sp('한국어 모델을 공유합니다.')"
   ]
  },
  {
   "cell_type": "code",
   "execution_count": 3,
   "metadata": {},
   "outputs": [
    {
     "data": {
      "text/plain": [
       "['▁아버지', '가', '방', '에', '들어', '가', '신', '다']"
      ]
     },
     "execution_count": 3,
     "metadata": {},
     "output_type": "execute_result"
    }
   ],
   "source": [
    "sp('아버지가방에들어가신다')"
   ]
  },
  {
   "cell_type": "code",
   "execution_count": 4,
   "metadata": {},
   "outputs": [
    {
     "data": {
      "text/plain": [
       "['▁경기도',\n",
       " '▁고양',\n",
       " '시',\n",
       " '에',\n",
       " '▁사는',\n",
       " '▁고',\n",
       " '영',\n",
       " '희',\n",
       " '씨의',\n",
       " '▁고양',\n",
       " '이',\n",
       " '는',\n",
       " '▁잔',\n",
       " '뜩',\n",
       " '▁고양',\n",
       " '되었다']"
      ]
     },
     "execution_count": 4,
     "metadata": {},
     "output_type": "execute_result"
    }
   ],
   "source": [
    "sp('경기도 고양시에 사는 고영희씨의 고양이는 잔뜩 고양되었다')"
   ]
  },
  {
   "cell_type": "code",
   "execution_count": 5,
   "metadata": {},
   "outputs": [
    {
     "data": {
      "text/plain": [
       "['▁부산',\n",
       " '에서',\n",
       " '▁열리는',\n",
       " '▁',\n",
       " 'TI',\n",
       " 'G',\n",
       " 'ER',\n",
       " '▁J',\n",
       " 'K',\n",
       " '의',\n",
       " '▁단독',\n",
       " '▁콘서트',\n",
       " '를',\n",
       " '▁',\n",
       " '가',\n",
       " '기',\n",
       " '위',\n",
       " '해',\n",
       " '▁부산',\n",
       " '을',\n",
       " '▁떨',\n",
       " '다']"
      ]
     },
     "execution_count": 5,
     "metadata": {},
     "output_type": "execute_result"
    }
   ],
   "source": [
    "sp('부산에서 열리는 TIGER JK의 단독 콘서트를 가기위해 부산을 떨다')"
   ]
  },
  {
   "cell_type": "code",
   "execution_count": 6,
   "metadata": {},
   "outputs": [
    {
     "data": {
      "text/plain": [
       "['▁안', '산', '▁선수', '는', '▁안', '산', '에', '▁안', '산', '대']"
      ]
     },
     "execution_count": 6,
     "metadata": {},
     "output_type": "execute_result"
    }
   ],
   "source": [
    "sp('안산 선수는 안산에 안산대')"
   ]
  },
  {
   "cell_type": "code",
   "execution_count": null,
   "metadata": {},
   "outputs": [],
   "source": []
  }
 ],
 "metadata": {
  "kernelspec": {
   "display_name": "Python 3",
   "language": "python",
   "name": "python3"
  },
  "language_info": {
   "codemirror_mode": {
    "name": "ipython",
    "version": 3
   },
   "file_extension": ".py",
   "mimetype": "text/x-python",
   "name": "python",
   "nbconvert_exporter": "python",
   "pygments_lexer": "ipython3",
   "version": "3.7.0"
  }
 },
 "nbformat": 4,
 "nbformat_minor": 4
}
